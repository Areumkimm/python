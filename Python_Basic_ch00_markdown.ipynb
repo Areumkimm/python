{
 "cells": [
  {
   "cell_type": "markdown",
   "metadata": {},
   "source": [
    "## 1. Jupyter Notebook 단축키\n",
    " 입력모드 : cell(녹색 테두리)  \n",
    " 명령모드 : cell(파랑 테두리)\n",
    "1. Cell Type 변경\n",
    "  - 명령모드 + m : Markdown 모드 전환\n",
    "  - 명령모드 + y : Code 모드 전환\n",
    "2. Cell 실행\n",
    "  - Ctrl + Enter : Cell 실행\n",
    "3. Cell 추가\n",
    "  - a : 해당 Cell을 기주으로 위에 Cell 생성\n",
    "  - b : 해당 Cell을 기준으로 아래에 CEll 생성\n",
    "4. Cell 삭제\n",
    "  - dd : 해당 Cell 삭제\n",
    "5. Help\n",
    "  - h : Jupyter notebook help 실행"
   ]
  },
  {
   "cell_type": "markdown",
   "metadata": {},
   "source": [
    "## 2. Title\n",
    "\n",
    "# Hello Python\n",
    "## Hello Python\n",
    "### Hello Python\n",
    "#### Hello Python\n",
    "##### Hello Python\n",
    "###### Hello Python\n"
   ]
  },
  {
   "cell_type": "markdown",
   "metadata": {},
   "source": [
    "## 3. 진하게 & 이텔릭체\n",
    "\n",
    "**python** is really *cool*\n"
   ]
  },
  {
   "cell_type": "markdown",
   "metadata": {},
   "source": [
    "## 4. 리스트\n",
    "\n",
    "순서가 없는 리스트 \n",
    "- 프로그래밍 언어\n",
    " + 웹프로그래밍  \n",
    "   * Java  \n",
    "   * Javascript  \n",
    " + 앱프로그래밍  \n",
    "   * Java  \n",
    "   * Kotlin  \n",
    " + 인공지능  \n",
    "   * python \n",
    "\n",
    "순서가 있는 리스트\n",
    "1. 사과\n",
    "2. 바나나\n",
    "3. 딸기\n",
    "\n",
    "\n",
    "\n",
    "\n"
   ]
  },
  {
   "cell_type": "markdown",
   "metadata": {},
   "source": [
    "## 5. 파이썬 코드\n",
    "\n",
    "```python\n",
    "a = 10\n",
    "print(a)\n",
    "\n",
    "```"
   ]
  },
  {
   "cell_type": "markdown",
   "metadata": {},
   "source": [
    "## 6. 하이퍼링크\n",
    "\n",
    "[python 공홈](https:// www.python.org)\n"
   ]
  },
  {
   "cell_type": "markdown",
   "metadata": {},
   "source": [
    "## 7. 기타\n",
    "\n",
    "수식  \n",
    "$y=3x+b$"
   ]
  },
  {
   "cell_type": "markdown",
   "metadata": {},
   "source": [
    "인용구 \n",
    "\n",
    "> Life is short, you need python :)\n",
    "\n",
    "\n"
   ]
  }
 ],
 "metadata": {
  "kernelspec": {
   "display_name": "Python 3",
   "language": "python",
   "name": "python3"
  },
  "language_info": {
   "codemirror_mode": {
    "name": "ipython",
    "version": 3
   },
   "file_extension": ".py",
   "mimetype": "text/x-python",
   "name": "python",
   "nbconvert_exporter": "python",
   "pygments_lexer": "ipython3",
   "version": "3.7.6"
  }
 },
 "nbformat": 4,
 "nbformat_minor": 4
}
